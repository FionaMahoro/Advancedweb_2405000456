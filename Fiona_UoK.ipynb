{
  "nbformat": 4,
  "nbformat_minor": 0,
  "metadata": {
    "colab": {
      "provenance": [],
      "authorship_tag": "ABX9TyPzbyJiUCUxteMluNf1OUff",
      "include_colab_link": true
    },
    "kernelspec": {
      "name": "python3",
      "display_name": "Python 3"
    },
    "language_info": {
      "name": "python"
    }
  },
  "cells": [
    {
      "cell_type": "markdown",
      "metadata": {
        "id": "view-in-github",
        "colab_type": "text"
      },
      "source": [
        "<a href=\"https://colab.research.google.com/github/FionaMahoro/Advancedweb_2405000456/blob/main/Fiona_UoK.ipynb\" target=\"_parent\"><img src=\"https://colab.research.google.com/assets/colab-badge.svg\" alt=\"Open In Colab\"/></a>"
      ]
    },
    {
      "cell_type": "code",
      "execution_count": 10,
      "metadata": {
        "colab": {
          "base_uri": "https://localhost:8080/"
        },
        "id": "RlTT7enobTDP",
        "outputId": "4d098e31-440b-4e1c-922c-2e447f20956a"
      },
      "outputs": [
        {
          "output_type": "stream",
          "name": "stdout",
          "text": [
            "['Peter', 'Kagetera', 'John', 'Claude', 'Alex']\n",
            "['UoK', 'Peter', 'Mahoro', 'Kagetera', 'John', 'Fiona', 'Claude', 'Alex']\n"
          ]
        }
      ],
      "source": [
        "\n",
        "\n",
        "lists = [\"Kagetera\",\"John\",\"Peter\",\"Alex\",\"Claude\"]\n",
        "lists.sort(reverse=True)\n",
        "print(lists)\n",
        "lists.append(\"Fiona\")\n",
        "lists.append(\"UoK\")\n",
        "lists.append (\"Mahoro\")\n",
        "lists.sort(reverse=True)\n",
        "print(lists)\n"
      ]
    }
  ]
}