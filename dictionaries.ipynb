{
  "nbformat": 4,
  "nbformat_minor": 0,
  "metadata": {
    "colab": {
      "provenance": [],
      "authorship_tag": "ABX9TyMELEs5FBUOwjNjUKxLTxvb",
      "include_colab_link": true
    },
    "kernelspec": {
      "name": "python3",
      "display_name": "Python 3"
    },
    "language_info": {
      "name": "python"
    }
  },
  "cells": [
    {
      "cell_type": "markdown",
      "metadata": {
        "id": "view-in-github",
        "colab_type": "text"
      },
      "source": [
        "<a href=\"https://colab.research.google.com/github/FionaMahoro/Advancedweb_2405000456/blob/main/dictionaries.ipynb\" target=\"_parent\"><img src=\"https://colab.research.google.com/assets/colab-badge.svg\" alt=\"Open In Colab\"/></a>"
      ]
    },
    {
      "cell_type": "code",
      "execution_count": 5,
      "metadata": {
        "colab": {
          "base_uri": "https://localhost:8080/"
        },
        "id": "0s6rPGxZpAZa",
        "outputId": "02e02865-0f8a-4d09-c435-b7c70da5ea3b"
      },
      "outputs": [
        {
          "output_type": "stream",
          "name": "stdout",
          "text": [
            "Apple: 1000 RWF per kg\n",
            "Banana: 500 RWF per kg\n",
            "Mango: 1200 RWF per kg\n",
            "Total cost for 2kilos of each fruit is: 5400 RWF\n"
          ]
        }
      ],
      "source": [
        "#Key and value\n",
        "Prices = {\"Apple\": 1000, \"Banana\": 500, \"Mango\": 1200}\n",
        "total_cost = 0\n",
        "\n",
        "for fruits, cost in Prices.items():\n",
        "\n",
        "    print(f\"{fruits}: {cost} RWF per kg\")\n",
        "    total_cost += cost * 2\n",
        "\n",
        "print(f\"Total cost for 2kilos of each fruit is: {total_cost} RWF\")"
      ]
    }
  ]
}