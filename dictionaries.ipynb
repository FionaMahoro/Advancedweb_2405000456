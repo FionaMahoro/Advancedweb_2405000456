{
  "nbformat": 4,
  "nbformat_minor": 0,
  "metadata": {
    "colab": {
      "provenance": [],
      "authorship_tag": "ABX9TyNcQ8kSYSk9bp9cpn1ph5wj",
      "include_colab_link": true
    },
    "kernelspec": {
      "name": "python3",
      "display_name": "Python 3"
    },
    "language_info": {
      "name": "python"
    }
  },
  "cells": [
    {
      "cell_type": "markdown",
      "metadata": {
        "id": "view-in-github",
        "colab_type": "text"
      },
      "source": [
        "<a href=\"https://colab.research.google.com/github/FionaMahoro/Advancedweb_2405000456/blob/main/dictionaries.ipynb\" target=\"_parent\"><img src=\"https://colab.research.google.com/assets/colab-badge.svg\" alt=\"Open In Colab\"/></a>"
      ]
    },
    {
      "cell_type": "code",
      "execution_count": 4,
      "metadata": {
        "colab": {
          "base_uri": "https://localhost:8080/"
        },
        "id": "0s6rPGxZpAZa",
        "outputId": "0cc3a46a-2456-493e-9ae7-70b0bc387e0e"
      },
      "outputs": [
        {
          "output_type": "stream",
          "name": "stdout",
          "text": [
            "Apple: 1000 RWF per kg\n",
            "Banana: 500 RWF per kg\n",
            "Mango: 1200 RWF per kg\n",
            "Total cost for 2kilos of each fruit is: 5400 RWF\n"
          ]
        }
      ],
      "source": [
        "#Key and value\n",
        "Prices = {\"Apple\": 1000, \"Banana\": 500, \"Mango\": 1200}\n",
        "total_cost = 0\n",
        "\n",
        "for fruit, price in Prices.items():\n",
        "\n",
        "    print(f\"{fruit}: {price} RWF per kg\")\n",
        "    total_cost += price * 2\n",
        "\n",
        "print(f\"Total cost for 2kilos of each fruit is: {total_cost} RWF\")"
      ]
    }
  ]
}